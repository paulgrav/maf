{
 "cells": [
  {
   "cell_type": "code",
   "execution_count": 8,
   "metadata": {},
   "outputs": [],
   "source": [
    "import requests"
   ]
  },
  {
   "cell_type": "code",
   "execution_count": 9,
   "metadata": {},
   "outputs": [],
   "source": [
    "import pandas as pd"
   ]
  },
  {
   "cell_type": "code",
   "execution_count": 10,
   "metadata": {},
   "outputs": [],
   "source": [
    "import io"
   ]
  },
  {
   "cell_type": "code",
   "execution_count": 11,
   "metadata": {},
   "outputs": [],
   "source": [
    "# You can retrieve this from Intervals’ settings screen"
   ]
  },
  {
   "cell_type": "code",
   "execution_count": null,
   "metadata": {},
   "outputs": [],
   "source": [
    "API_KEY = input()"
   ]
  },
  {
   "cell_type": "code",
   "execution_count": 15,
   "metadata": {},
   "outputs": [],
   "source": [
    "# Go to your Strava profile page, the number in the address bar is your STRAVA_ID"
   ]
  },
  {
   "cell_type": "code",
   "execution_count": null,
   "metadata": {},
   "outputs": [],
   "source": [
    "STRAVA_ID = input()"
   ]
  },
  {
   "cell_type": "code",
   "execution_count": 20,
   "metadata": {},
   "outputs": [],
   "source": [
    "url = f'https://intervals.icu/api/v1/athlete/{STRAVA_ID}/activities.csv'"
   ]
  },
  {
   "cell_type": "code",
   "execution_count": 21,
   "metadata": {},
   "outputs": [],
   "source": [
    "r = requests.get(url, auth=('API_KEY', API_KEY))"
   ]
  },
  {
   "cell_type": "code",
   "execution_count": 22,
   "metadata": {},
   "outputs": [],
   "source": [
    "df = pd.read_csv(io.StringIO(r.text),parse_dates=['start_date_local'])"
   ]
  },
  {
   "cell_type": "code",
   "execution_count": 23,
   "metadata": {},
   "outputs": [],
   "source": [
    "df = df[df['name'].str.contains(\"MAF\")]"
   ]
  },
  {
   "cell_type": "code",
   "execution_count": 24,
   "metadata": {},
   "outputs": [],
   "source": [
    "df = df[['name','start_date_local','moving_time','average_heartrate','icu_normalized_watts','icu_efficiency','icu_fatigue','icu_variability']]"
   ]
  },
  {
   "cell_type": "code",
   "execution_count": 25,
   "metadata": {},
   "outputs": [],
   "source": [
    "df['week'] = df['start_date_local'].dt.week"
   ]
  },
  {
   "cell_type": "code",
   "execution_count": 26,
   "metadata": {},
   "outputs": [],
   "source": [
    "df['moving_time'] = pd.to_datetime(df.moving_time, unit='s').dt.strftime('%H:%M')"
   ]
  },
  {
   "cell_type": "code",
   "execution_count": 27,
   "metadata": {},
   "outputs": [
    {
     "data": {
      "text/html": [
       "<div>\n",
       "<style scoped>\n",
       "    .dataframe tbody tr th:only-of-type {\n",
       "        vertical-align: middle;\n",
       "    }\n",
       "\n",
       "    .dataframe tbody tr th {\n",
       "        vertical-align: top;\n",
       "    }\n",
       "\n",
       "    .dataframe thead th {\n",
       "        text-align: right;\n",
       "    }\n",
       "</style>\n",
       "<table border=\"1\" class=\"dataframe\">\n",
       "  <thead>\n",
       "    <tr style=\"text-align: right;\">\n",
       "      <th></th>\n",
       "      <th>name</th>\n",
       "      <th>start_date_local</th>\n",
       "      <th>moving_time</th>\n",
       "      <th>average_heartrate</th>\n",
       "      <th>icu_normalized_watts</th>\n",
       "      <th>icu_efficiency</th>\n",
       "      <th>icu_fatigue</th>\n",
       "      <th>icu_variability</th>\n",
       "      <th>week</th>\n",
       "    </tr>\n",
       "  </thead>\n",
       "  <tbody>\n",
       "    <tr>\n",
       "      <th>1</th>\n",
       "      <td>MAF</td>\n",
       "      <td>2020-09-13 10:40:34</td>\n",
       "      <td>02:41</td>\n",
       "      <td>134.0</td>\n",
       "      <td>198.0</td>\n",
       "      <td>1.477612</td>\n",
       "      <td>72.024990</td>\n",
       "      <td>1.000000</td>\n",
       "      <td>37</td>\n",
       "    </tr>\n",
       "    <tr>\n",
       "      <th>2</th>\n",
       "      <td>MAF 120</td>\n",
       "      <td>2020-09-11 07:44:00</td>\n",
       "      <td>01:15</td>\n",
       "      <td>134.0</td>\n",
       "      <td>200.0</td>\n",
       "      <td>1.492537</td>\n",
       "      <td>76.181190</td>\n",
       "      <td>1.000000</td>\n",
       "      <td>37</td>\n",
       "    </tr>\n",
       "    <tr>\n",
       "      <th>3</th>\n",
       "      <td>MAF 120</td>\n",
       "      <td>2020-09-10 19:59:13</td>\n",
       "      <td>01:51</td>\n",
       "      <td>133.0</td>\n",
       "      <td>220.0</td>\n",
       "      <td>1.654135</td>\n",
       "      <td>79.741010</td>\n",
       "      <td>1.000000</td>\n",
       "      <td>37</td>\n",
       "    </tr>\n",
       "    <tr>\n",
       "      <th>4</th>\n",
       "      <td>MAF 120</td>\n",
       "      <td>2020-09-10 07:40:33</td>\n",
       "      <td>01:17</td>\n",
       "      <td>133.0</td>\n",
       "      <td>201.0</td>\n",
       "      <td>1.511278</td>\n",
       "      <td>67.094410</td>\n",
       "      <td>1.000000</td>\n",
       "      <td>37</td>\n",
       "    </tr>\n",
       "    <tr>\n",
       "      <th>5</th>\n",
       "      <td>MAF 60</td>\n",
       "      <td>2020-09-09 07:49:09</td>\n",
       "      <td>01:00</td>\n",
       "      <td>133.0</td>\n",
       "      <td>202.0</td>\n",
       "      <td>1.518797</td>\n",
       "      <td>68.951690</td>\n",
       "      <td>1.000000</td>\n",
       "      <td>37</td>\n",
       "    </tr>\n",
       "    <tr>\n",
       "      <th>6</th>\n",
       "      <td>MAF 100</td>\n",
       "      <td>2020-09-08 19:46:16</td>\n",
       "      <td>01:50</td>\n",
       "      <td>132.0</td>\n",
       "      <td>207.0</td>\n",
       "      <td>1.568182</td>\n",
       "      <td>72.936966</td>\n",
       "      <td>1.009756</td>\n",
       "      <td>37</td>\n",
       "    </tr>\n",
       "    <tr>\n",
       "      <th>7</th>\n",
       "      <td>MAF 85</td>\n",
       "      <td>2020-09-08 07:31:04</td>\n",
       "      <td>01:25</td>\n",
       "      <td>133.0</td>\n",
       "      <td>211.0</td>\n",
       "      <td>1.586466</td>\n",
       "      <td>61.887833</td>\n",
       "      <td>1.009569</td>\n",
       "      <td>37</td>\n",
       "    </tr>\n",
       "  </tbody>\n",
       "</table>\n",
       "</div>"
      ],
      "text/plain": [
       "      name    start_date_local moving_time  average_heartrate  \\\n",
       "1     MAF  2020-09-13 10:40:34       02:41              134.0   \n",
       "2  MAF 120 2020-09-11 07:44:00       01:15              134.0   \n",
       "3  MAF 120 2020-09-10 19:59:13       01:51              133.0   \n",
       "4  MAF 120 2020-09-10 07:40:33       01:17              133.0   \n",
       "5   MAF 60 2020-09-09 07:49:09       01:00              133.0   \n",
       "6  MAF 100 2020-09-08 19:46:16       01:50              132.0   \n",
       "7   MAF 85 2020-09-08 07:31:04       01:25              133.0   \n",
       "\n",
       "   icu_normalized_watts  icu_efficiency  icu_fatigue  icu_variability  week  \n",
       "1                 198.0        1.477612    72.024990         1.000000    37  \n",
       "2                 200.0        1.492537    76.181190         1.000000    37  \n",
       "3                 220.0        1.654135    79.741010         1.000000    37  \n",
       "4                 201.0        1.511278    67.094410         1.000000    37  \n",
       "5                 202.0        1.518797    68.951690         1.000000    37  \n",
       "6                 207.0        1.568182    72.936966         1.009756    37  \n",
       "7                 211.0        1.586466    61.887833         1.009569    37  "
      ]
     },
     "execution_count": 27,
     "metadata": {},
     "output_type": "execute_result"
    }
   ],
   "source": [
    "df"
   ]
  },
  {
   "cell_type": "code",
   "execution_count": 28,
   "metadata": {},
   "outputs": [
    {
     "data": {
      "text/html": [
       "<div>\n",
       "<style scoped>\n",
       "    .dataframe tbody tr th:only-of-type {\n",
       "        vertical-align: middle;\n",
       "    }\n",
       "\n",
       "    .dataframe tbody tr th {\n",
       "        vertical-align: top;\n",
       "    }\n",
       "\n",
       "    .dataframe thead th {\n",
       "        text-align: right;\n",
       "    }\n",
       "</style>\n",
       "<table border=\"1\" class=\"dataframe\">\n",
       "  <thead>\n",
       "    <tr style=\"text-align: right;\">\n",
       "      <th></th>\n",
       "      <th>average_heartrate</th>\n",
       "      <th>icu_normalized_watts</th>\n",
       "      <th>icu_efficiency</th>\n",
       "      <th>icu_fatigue</th>\n",
       "      <th>icu_variability</th>\n",
       "    </tr>\n",
       "    <tr>\n",
       "      <th>week</th>\n",
       "      <th></th>\n",
       "      <th></th>\n",
       "      <th></th>\n",
       "      <th></th>\n",
       "      <th></th>\n",
       "    </tr>\n",
       "  </thead>\n",
       "  <tbody>\n",
       "    <tr>\n",
       "      <th>37</th>\n",
       "      <td>133.142857</td>\n",
       "      <td>205.571429</td>\n",
       "      <td>1.544144</td>\n",
       "      <td>71.259727</td>\n",
       "      <td>1.002761</td>\n",
       "    </tr>\n",
       "  </tbody>\n",
       "</table>\n",
       "</div>"
      ],
      "text/plain": [
       "      average_heartrate  icu_normalized_watts  icu_efficiency  icu_fatigue  \\\n",
       "week                                                                         \n",
       "37           133.142857            205.571429        1.544144    71.259727   \n",
       "\n",
       "      icu_variability  \n",
       "week                   \n",
       "37           1.002761  "
      ]
     },
     "execution_count": 28,
     "metadata": {},
     "output_type": "execute_result"
    }
   ],
   "source": [
    "df.groupby(['week']).mean()"
   ]
  },
  {
   "cell_type": "code",
   "execution_count": null,
   "metadata": {},
   "outputs": [],
   "source": []
  }
 ],
 "metadata": {
  "kernelspec": {
   "display_name": "Python 3",
   "language": "python",
   "name": "python3"
  },
  "language_info": {
   "codemirror_mode": {
    "name": "ipython",
    "version": 3
   },
   "file_extension": ".py",
   "mimetype": "text/x-python",
   "name": "python",
   "nbconvert_exporter": "python",
   "pygments_lexer": "ipython3",
   "version": "3.7.6"
  }
 },
 "nbformat": 4,
 "nbformat_minor": 4
}
